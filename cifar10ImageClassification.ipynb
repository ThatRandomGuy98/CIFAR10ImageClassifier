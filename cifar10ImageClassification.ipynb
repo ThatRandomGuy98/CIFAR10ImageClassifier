{
 "cells": [
  {
   "cell_type": "code",
   "execution_count": 1,
   "id": "159c915e",
   "metadata": {},
   "outputs": [
    {
     "name": "stdout",
     "output_type": "stream",
     "text": [
      "NVIDIA GPU available, running stuff on GPU\n"
     ]
    }
   ],
   "source": [
    "import torch\n",
    "import torch.nn as nn\n",
    "from torchvision import datasets, transforms\n",
    "from torch.utils.data import DataLoader, random_split, Subset\n",
    "import torch.nn.functional as F\n",
    "from torchinfo import summary\n",
    "from tqdm import tqdm\n",
    "import numpy as np\n",
    "import matplotlib.pyplot as plt\n",
    "\n",
    "import warnings\n",
    "warnings.filterwarnings(action=\"ignore\")\n",
    "\n",
    "DEVICE = torch.device(\"cuda\" if torch.cuda.is_available() else \"cpu\")\n",
    "print(\"NVIDIA GPU available, running stuff on GPU\" if DEVICE.type == \"cuda\" else \"No NVIDIA GPU available, running stuff on CPU\")"
   ]
  },
  {
   "cell_type": "code",
   "execution_count": 2,
   "id": "6f56597f",
   "metadata": {},
   "outputs": [
    {
     "name": "stdout",
     "output_type": "stream",
     "text": [
      "\n",
      "Completed data loading and splits:\n",
      " * Train dataset: 45000 samples\n",
      " * Validation dataset: 5000 samples\n",
      " * Test dataset: 10000 samples\n"
     ]
    }
   ],
   "source": [
    "ROOT_DIR = r\"C:\\Users\\delga\\Documents\\programming\\datasets\"\n",
    "\n",
    "train_transforms = transforms.Compose([\n",
    "    transforms.RandomCrop(32, padding=4),\n",
    "    transforms.RandomHorizontalFlip(),\n",
    "    transforms.ToTensor(),\n",
    "    transforms.Normalize(mean=[0.4914, 0.4822, 0.4465], std=[0.2470, 0.2435, 0.2616])  #Known metrics from CIFAR10\n",
    "])\n",
    "\n",
    "val_transforms = transforms.Compose([\n",
    "    transforms.ToTensor(),\n",
    "    transforms.Normalize(mean=[0.4914, 0.4822, 0.4465], std=[0.2470, 0.2435, 0.2616])   #Known metrics from CIFAR10\n",
    "])\n",
    "\n",
    "full_train_dataset = datasets.CIFAR10(\n",
    "    root=ROOT_DIR, \n",
    "    download=False, \n",
    "    train=True, \n",
    "    transform=train_transforms\n",
    "    )\n",
    "\n",
    "train_size = int(0.9 * len(full_train_dataset))\n",
    "val_size = len(full_train_dataset) - train_size\n",
    "\n",
    "train_dataset, val_dataset = random_split(\n",
    "    dataset=full_train_dataset,\n",
    "    lengths=[train_size, val_size],\n",
    "    generator=torch.Generator().manual_seed(22)\n",
    ")\n",
    "\n",
    "val_dataset.dataset.transform = val_transforms      # Replace val transform (so validation doesn't use augmentations)\n",
    "\n",
    "test_dataset = datasets.CIFAR10(\n",
    "    root=ROOT_DIR, \n",
    "    download=False, \n",
    "    train=False, \n",
    "    transform=val_transforms\n",
    "    )\n",
    "\n",
    "print(f\"\\nCompleted data loading and splits:\\n * Train dataset: {len(train_dataset)} samples\\n * Validation dataset: {len(val_dataset)} samples\\n * Test dataset: {len(test_dataset)} samples\")\n",
    "\n",
    "train_loader = DataLoader(dataset=train_dataset, batch_size=128, shuffle=True, num_workers=1, pin_memory=True)\n",
    "val_loader = DataLoader(dataset=val_dataset, batch_size=128, shuffle=True, num_workers=1, pin_memory=True)\n",
    "test_loader = DataLoader(dataset=test_dataset, batch_size=128, shuffle=True, num_workers=1, pin_memory=True)"
   ]
  },
  {
   "cell_type": "code",
   "execution_count": 3,
   "id": "321f697a",
   "metadata": {},
   "outputs": [],
   "source": [
    "# indices = torch.arange(100)\n",
    "# tiny_train_dataset = Subset(dataset=train_dataset, indices=indices)\n",
    "# tiny_loader = DataLoader(dataset=tiny_train_dataset, batch_size=16, shuffle=True)\n",
    "# images, labels = next(iter(tiny_loader))\n",
    "# print(images.shape, labels.shape)"
   ]
  },
  {
   "cell_type": "code",
   "execution_count": 4,
   "id": "e4bc89bf",
   "metadata": {},
   "outputs": [],
   "source": [
    "class CNN(nn.Module):\n",
    "    \"\"\"\n",
    "    A simple Convolutional Neural Network for CIFAR-10 classification.\n",
    "    Input: 3x32x32 images\n",
    "    Output: 10 class logits\n",
    "    \"\"\"\n",
    "    def __init__(self) -> None:\n",
    "        super(CNN, self).__init__()\n",
    "        # --- Convolutional layers ---\n",
    "        self.conv1 = nn.Conv2d(in_channels=3, out_channels=32, kernel_size=3, padding=1)\n",
    "        self.conv2 = nn.Conv2d(in_channels=32, out_channels=64, kernel_size=3, padding=1)\n",
    "        # --- Batch Normalization layers + Pooling layer ---\n",
    "        self.bn1 = nn.BatchNorm2d(num_features=32)\n",
    "        self.bn2 = nn.BatchNorm2d(num_features=64)\n",
    "        self.pool = nn.MaxPool2d(kernel_size=2, stride=2)\n",
    "        # --- Fully Connected layers ---\n",
    "        self.fc1 = nn.Linear(in_features=64 * 8 * 8, out_features=256)\n",
    "        self.fc2 = nn.Linear(in_features=256, out_features=10)  # 10 CIFAR-10 classes\n",
    "        # --- Regularization ---\n",
    "        self.dropout = nn.Dropout(p=0.25)\n",
    "\n",
    "\n",
    "    def forward(self, x: torch.Tensor) -> torch.Tensor:\n",
    "        x = self.pool(F.relu(self.bn1(self.conv1(x))))   # Output: [B, 32, 16, 16]\n",
    "        x = self.pool(F.relu(self.bn2(self.conv2(x))))   # Output: [B, 64, 8, 8]\n",
    "        x = torch.flatten(x, 1)  # Flatten all dimensions except batch\n",
    "        x = F.relu(self.fc1(x))\n",
    "        x = self.dropout(x)\n",
    "        x = self.fc2(x)\n",
    "\n",
    "        return x"
   ]
  },
  {
   "cell_type": "code",
   "execution_count": 5,
   "id": "c027639e",
   "metadata": {},
   "outputs": [
    {
     "data": {
      "text/plain": [
       "==========================================================================================\n",
       "Layer (type:depth-idx)                   Output Shape              Param #\n",
       "==========================================================================================\n",
       "CNN                                      [16, 10]                  --\n",
       "├─Conv2d: 1-1                            [16, 32, 32, 32]          896\n",
       "├─BatchNorm2d: 1-2                       [16, 32, 32, 32]          64\n",
       "├─MaxPool2d: 1-3                         [16, 32, 16, 16]          --\n",
       "├─Conv2d: 1-4                            [16, 64, 16, 16]          18,496\n",
       "├─BatchNorm2d: 1-5                       [16, 64, 16, 16]          128\n",
       "├─MaxPool2d: 1-6                         [16, 64, 8, 8]            --\n",
       "├─Linear: 1-7                            [16, 256]                 1,048,832\n",
       "├─Dropout: 1-8                           [16, 256]                 --\n",
       "├─Linear: 1-9                            [16, 10]                  2,570\n",
       "==========================================================================================\n",
       "Total params: 1,070,986\n",
       "Trainable params: 1,070,986\n",
       "Non-trainable params: 0\n",
       "Total mult-adds (Units.MEGABYTES): 107.27\n",
       "==========================================================================================\n",
       "Input size (MB): 0.20\n",
       "Forward/backward pass size (MB): 12.62\n",
       "Params size (MB): 4.28\n",
       "Estimated Total Size (MB): 17.10\n",
       "=========================================================================================="
      ]
     },
     "execution_count": 5,
     "metadata": {},
     "output_type": "execute_result"
    }
   ],
   "source": [
    "model = CNN().to(DEVICE)\n",
    "# images, labels = next(iter(tiny_loader))\n",
    "# images, labels = images.to(device), labels.to(device)\n",
    "# out = model(images)\n",
    "# print(out.shape)\n",
    "summary(model, input_size=(16, 3, 32, 32))"
   ]
  },
  {
   "cell_type": "code",
   "execution_count": 12,
   "id": "4ef07278",
   "metadata": {},
   "outputs": [],
   "source": [
    "criterion = nn.CrossEntropyLoss()\n",
    "optimizer = torch.optim.Adam(model.parameters(), lr=1e-3, weight_decay=1e-4)\n",
    "\n",
    "def train_and_validate(model, train_loader, val_loader, epochs, criterion, optimizer):\n",
    "    \"\"\"\n",
    "    Trains the model {epochs} number of times, within each epoch it\n",
    "    trains the whole data inside the loader and later evaluates it using\n",
    "    the validation loader\n",
    "    \"\"\"\n",
    "    train_losses = []\n",
    "    val_losses = []\n",
    "    val_accuracies = []\n",
    "    \n",
    "    for epoch in range(epochs):\n",
    "        # --- Training phase ---\n",
    "        model.train()\n",
    "        total_train_loss = 0\n",
    "        \n",
    "        for images, labels in train_loader:\n",
    "            images, labels = images.to(DEVICE), labels.to(DEVICE)\n",
    "            \n",
    "            optimizer.zero_grad()\n",
    "            outputs = model(images)\n",
    "            loss = criterion(outputs, labels)\n",
    "            loss.backward()\n",
    "            optimizer.step()\n",
    "            \n",
    "            total_train_loss += loss.item()\n",
    "            \n",
    "        avg_train_loss = total_train_loss / len(train_loader)\n",
    "        train_losses.append(avg_train_loss)\n",
    "\n",
    "        # --- Evaluation phase ---\n",
    "        model.eval()\n",
    "        total_val_loss = 0\n",
    "        correct = 0\n",
    "        total = 0\n",
    "        \n",
    "        with torch.no_grad():\n",
    "            for images, labels in val_loader:\n",
    "                images, labels = images.to(DEVICE), labels.to(DEVICE)\n",
    "                outputs = model(images)\n",
    "                loss = criterion(outputs, labels)\n",
    "                total_val_loss += loss.item()\n",
    "                \n",
    "                _, preds = torch.max(outputs, 1)\n",
    "                correct += (preds == labels).sum().item()\n",
    "                total += labels.size(0)\n",
    "\n",
    "        avg_val_loss = total_val_loss / len(val_loader)\n",
    "        val_losses.append(avg_val_loss)\n",
    "        \n",
    "        val_accuracy = 100 * correct / total\n",
    "        val_accuracies.append(val_accuracy)\n",
    "        \n",
    "        print(f\"Epoch [{epoch+1}/{epochs}] | \"\n",
    "              f\"Train Loss: {avg_train_loss:.4f} | \"\n",
    "              f\"Val Loss: {avg_val_loss:.4f} | \"\n",
    "              f\"Val Acc: {val_accuracy:.2f}%\")\n",
    "    \n",
    "    # --- Plotting the curves ---    \n",
    "    epochs_range = range(1, epochs + 1)\n",
    "    \n",
    "    plt.figure(figsize=(10, 5))\n",
    "    plt.subplot(1, 2, 1)\n",
    "    plt.plot(epochs_range, train_losses, label=\"Train Loss\")\n",
    "    plt.plot(epochs_range, val_losses, label=\"Validation Loss\")\n",
    "    plt.title(\"Loss Curves\")\n",
    "    plt.xlabel(\"Epochs\")\n",
    "    plt.ylabel(\"Loss\")\n",
    "    plt.legend()\n",
    "    \n",
    "    plt.subplot(1, 2, 2)\n",
    "    plt.plot(epochs_range, val_accuracies, label=\"Validation Accuracy\", color=\"green\")\n",
    "    plt.title(\"Validation Accuracy\")\n",
    "    plt.xlabel(\"Epochs\")\n",
    "    plt.ylabel(\"Accuracy (%)\")\n",
    "    plt.legend()\n",
    "    \n",
    "    plt.tight_layout()\n",
    "    plt.show()\n",
    "    \n",
    "    return train_losses, val_losses, val_accuracies\n",
    "          \n",
    "        \n",
    "def test_loop(model, data_loader):\n",
    "    model.eval()\n",
    "    correct = 0\n",
    "    total = 0\n",
    "\n",
    "    with torch.no_grad():\n",
    "        for images, labels in data_loader:\n",
    "            images, labels = images.to(DEVICE), labels.to(DEVICE)\n",
    "            outputs = model(images)\n",
    "            _, preds = torch.max(outputs, 1)\n",
    "            correct += (preds == labels).sum().item()\n",
    "            total += labels.size(0)\n",
    "    \n",
    "    accuracy = 100 * correct / total\n",
    "    print(f\"\\nTest Accuracy: {accuracy:.2f}%\")\n",
    "    return accuracy"
   ]
  },
  {
   "cell_type": "code",
   "execution_count": 13,
   "id": "bc14fab7",
   "metadata": {},
   "outputs": [
    {
     "name": "stdout",
     "output_type": "stream",
     "text": [
      "Epoch [1/10] | Train Loss: 0.2046 | Val Loss: 1.0551 | Val Acc: 75.14%\n",
      "Epoch [2/10] | Train Loss: 0.1959 | Val Loss: 1.0881 | Val Acc: 74.64%\n",
      "Epoch [3/10] | Train Loss: 0.1903 | Val Loss: 1.0940 | Val Acc: 74.90%\n",
      "Epoch [4/10] | Train Loss: 0.1846 | Val Loss: 1.1106 | Val Acc: 75.08%\n",
      "Epoch [5/10] | Train Loss: 0.1785 | Val Loss: 1.1028 | Val Acc: 75.38%\n",
      "Epoch [6/10] | Train Loss: 0.1712 | Val Loss: 1.1248 | Val Acc: 74.46%\n",
      "Epoch [7/10] | Train Loss: 0.1782 | Val Loss: 1.1710 | Val Acc: 74.36%\n",
      "Epoch [8/10] | Train Loss: 0.1697 | Val Loss: 1.0586 | Val Acc: 74.64%\n",
      "Epoch [9/10] | Train Loss: 0.1699 | Val Loss: 1.1405 | Val Acc: 74.06%\n",
      "Epoch [10/10] | Train Loss: 0.1631 | Val Loss: 1.1722 | Val Acc: 74.66%\n"
     ]
    },
    {
     "data": {
      "image/png": "[encoded data removed]",
      "text/plain": [
       "<Figure size 1000x500 with 2 Axes>"
      ]
     },
     "metadata": {},
     "output_type": "display_data"
    },
    {
     "name": "stdout",
     "output_type": "stream",
     "text": [
      "\n",
      "Test Accuracy: 74.84%\n"
     ]
    },
    {
     "data": {
      "text/plain": [
       "74.84"
      ]
     },
     "execution_count": 13,
     "metadata": {},
     "output_type": "execute_result"
    }
   ],
   "source": [
    "train_and_validate(model=model, train_loader=train_loader, val_loader=val_loader, epochs=10, criterion=criterion, optimizer=optimizer)  \n",
    "test_loop(model=model, data_loader=test_loader)"
   ]
  }
 ],
 "metadata": {
  "kernelspec": {
   "display_name": "ML",
   "language": "python",
   "name": "python3"
  },
  "language_info": {
   "codemirror_mode": {
    "name": "ipython",
    "version": 3
   },
   "file_extension": ".py",
   "mimetype": "text/x-python",
   "name": "python",
   "nbconvert_exporter": "python",
   "pygments_lexer": "ipython3",
   "version": "3.11.4"
  }
 },
 "nbformat": 4,
 "nbformat_minor": 5
}
